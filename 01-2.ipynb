{
  "cells": [
    {
      "cell_type": "markdown",
      "id": "122beaf6-3bb0-40fd-be02-6a49afc7cf3d",
      "metadata": {
        "id": "122beaf6-3bb0-40fd-be02-6a49afc7cf3d"
      },
      "source": [
        "# 01-2 합성곱 신경망(CNN) 모델 이해하기"
      ]
    },
    {
      "cell_type": "markdown",
      "id": "ba6fecc8-a4bb-4671-98aa-5854e07bc881",
      "metadata": {
        "id": "ba6fecc8-a4bb-4671-98aa-5854e07bc881"
      },
      "source": [
        "## 합성곱층 - Conv2D"
      ]
    },
    {
      "cell_type": "code",
      "execution_count": 1,
      "id": "a78550bc-64fb-4fd7-bc02-bf918f77fb1a",
      "metadata": {
        "id": "a78550bc-64fb-4fd7-bc02-bf918f77fb1a"
      },
      "outputs": [],
      "source": [
        "import keras\n",
        "from keras import layers\n",
        "\n",
        "conv1 = layers.Conv2D(filters=10, kernel_size=(3, 3))"
      ]
    },
    {
      "cell_type": "code",
      "source": [
        "import numpy as np\n",
        "\n",
        "x = np.random.normal(size=(10, 28, 28, 1))\n",
        "conv_out = conv1(x)\n",
        "print(conv_out.shape)"
      ],
      "metadata": {
        "id": "CM085FYkOhKv",
        "outputId": "05521726-9f6d-4d46-e36d-1fd95b304634",
        "colab": {
          "base_uri": "https://localhost:8080/"
        }
      },
      "id": "CM085FYkOhKv",
      "execution_count": 2,
      "outputs": [
        {
          "output_type": "stream",
          "name": "stdout",
          "text": [
            "(10, 26, 26, 10)\n"
          ]
        }
      ]
    },
    {
      "cell_type": "code",
      "execution_count": 3,
      "id": "085eae53-4b5f-4dd3-99a5-2a3782112759",
      "metadata": {
        "id": "085eae53-4b5f-4dd3-99a5-2a3782112759",
        "outputId": "d230b90c-6cef-4e13-b639-3c6339bceacf",
        "colab": {
          "base_uri": "https://localhost:8080/"
        }
      },
      "outputs": [
        {
          "output_type": "stream",
          "name": "stdout",
          "text": [
            "(10, 13, 13, 10)\n"
          ]
        }
      ],
      "source": [
        "conv2 = layers.Conv2D(filters=10, kernel_size=(3, 3), strides=(2, 2))\n",
        "print(conv2(x).shape)"
      ]
    },
    {
      "cell_type": "code",
      "execution_count": 4,
      "id": "f8306c2b-eeee-46ae-a937-2b736ae9055c",
      "metadata": {
        "id": "f8306c2b-eeee-46ae-a937-2b736ae9055c",
        "outputId": "1d2c618c-d4c6-439b-f46e-629b946a5095",
        "colab": {
          "base_uri": "https://localhost:8080/"
        }
      },
      "outputs": [
        {
          "output_type": "stream",
          "name": "stdout",
          "text": [
            "(10, 14, 14, 10)\n"
          ]
        }
      ],
      "source": [
        "conv3 = layers.Conv2D(filters=10, kernel_size=(3, 3), strides=(2, 2), padding='same')\n",
        "print(conv3(x).shape)"
      ]
    },
    {
      "cell_type": "code",
      "execution_count": 5,
      "id": "4ad7dd4d-f66c-47d7-a251-a252fa8e4319",
      "metadata": {
        "id": "4ad7dd4d-f66c-47d7-a251-a252fa8e4319",
        "outputId": "ef07a93f-8c6a-4283-86f5-4e082e9205ed",
        "colab": {
          "base_uri": "https://localhost:8080/"
        }
      },
      "outputs": [
        {
          "output_type": "stream",
          "name": "stdout",
          "text": [
            "(10, 28, 28, 10)\n"
          ]
        }
      ],
      "source": [
        "conv4 = layers.Conv2D(filters=10, kernel_size=(3, 3), padding='same')\n",
        "print(conv4(x).shape)"
      ]
    },
    {
      "cell_type": "markdown",
      "id": "001d9649-a3cb-4819-858b-8f9125ab3933",
      "metadata": {
        "id": "001d9649-a3cb-4819-858b-8f9125ab3933"
      },
      "source": [
        "## 풀링층과 밀집층 - AveragePooling2D, Dense"
      ]
    },
    {
      "cell_type": "code",
      "execution_count": 6,
      "id": "3ce8eca0-2fa6-46c7-88db-74c1a7a9afd3",
      "metadata": {
        "id": "3ce8eca0-2fa6-46c7-88db-74c1a7a9afd3",
        "outputId": "d09be396-4483-4dd7-8dde-47189afae846",
        "colab": {
          "base_uri": "https://localhost:8080/"
        }
      },
      "outputs": [
        {
          "output_type": "stream",
          "name": "stdout",
          "text": [
            "(10, 14, 14, 1)\n",
            "(10, 9, 9, 1)\n"
          ]
        }
      ],
      "source": [
        "pool1 = layers.AveragePooling2D(pool_size=2)\n",
        "pool2 = layers.AveragePooling2D(pool_size=3)\n",
        "\n",
        "print(pool1(x).shape)\n",
        "print(pool2(x).shape)"
      ]
    },
    {
      "cell_type": "code",
      "execution_count": 7,
      "id": "0a081e3c-f5f5-48e6-9d28-dda6c8244dcd",
      "metadata": {
        "id": "0a081e3c-f5f5-48e6-9d28-dda6c8244dcd"
      },
      "outputs": [],
      "source": [
        "dense1 = layers.Dense(3)"
      ]
    },
    {
      "cell_type": "code",
      "execution_count": 8,
      "id": "dac8bde8-41d3-4d12-ac7e-509aa6139be9",
      "metadata": {
        "id": "dac8bde8-41d3-4d12-ac7e-509aa6139be9",
        "outputId": "e4211f87-f645-4309-9623-5edebcf73edd",
        "colab": {
          "base_uri": "https://localhost:8080/"
        }
      },
      "outputs": [
        {
          "output_type": "stream",
          "name": "stdout",
          "text": [
            "(1, 3)\n"
          ]
        }
      ],
      "source": [
        "import numpy as np\n",
        "\n",
        "x2 = np.array([[5, 7]])\n",
        "print(dense1(x2).shape)"
      ]
    },
    {
      "cell_type": "code",
      "execution_count": 9,
      "id": "d9283c29-6a35-446f-b164-564f07a2a6ce",
      "metadata": {
        "id": "d9283c29-6a35-446f-b164-564f07a2a6ce",
        "outputId": "17c30e3b-0bea-4e64-bb53-3b9e8c41ddd9",
        "colab": {
          "base_uri": "https://localhost:8080/"
        }
      },
      "outputs": [
        {
          "output_type": "stream",
          "name": "stdout",
          "text": [
            "[array([[ 0.7705256 , -0.4837526 , -0.8138573 ],\n",
            "       [-0.03992546,  1.0855837 , -0.39789987]], dtype=float32), array([0., 0., 0.], dtype=float32)]\n"
          ]
        }
      ],
      "source": [
        "print(dense1.get_weights())"
      ]
    },
    {
      "cell_type": "code",
      "execution_count": 10,
      "id": "20e39ea0-71be-4751-8c28-131b12e54b2b",
      "metadata": {
        "id": "20e39ea0-71be-4751-8c28-131b12e54b2b",
        "outputId": "d4b6ce9b-2233-4c61-c3d8-6eafeede3e67",
        "colab": {
          "base_uri": "https://localhost:8080/"
        }
      },
      "outputs": [
        {
          "output_type": "stream",
          "name": "stdout",
          "text": [
            "tf.Tensor([[33. 45. 57.]], shape=(1, 3), dtype=float32)\n"
          ]
        }
      ],
      "source": [
        "dense1.set_weights([\n",
        "    np.array([[1, 2, 3], [4, 5, 6]]),\n",
        "    np.array([0, 0, 0])\n",
        "])\n",
        "print(dense1(x2))"
      ]
    },
    {
      "cell_type": "code",
      "execution_count": 11,
      "id": "427dcbd9-9ffe-4d40-9e58-530768d38e87",
      "metadata": {
        "id": "427dcbd9-9ffe-4d40-9e58-530768d38e87",
        "outputId": "4fe58f3b-cb5d-4dc1-a526-a1253af04053",
        "colab": {
          "base_uri": "https://localhost:8080/"
        }
      },
      "outputs": [
        {
          "output_type": "stream",
          "name": "stdout",
          "text": [
            "[[33. 45. 57.]]\n"
          ]
        }
      ],
      "source": [
        "weight = dense1.get_weights()[0]\n",
        "print(np.dot(x2, weight))"
      ]
    }
  ],
  "metadata": {
    "environment": {
      "kernel": "python3",
      "name": "common-cpu.m102",
      "type": "gcloud",
      "uri": "gcr.io/deeplearning-platform-release/base-cpu:m102"
    },
    "kernelspec": {
      "display_name": "Python 3",
      "name": "python3"
    },
    "language_info": {
      "codemirror_mode": {
        "name": "ipython",
        "version": 3
      },
      "file_extension": ".py",
      "mimetype": "text/x-python",
      "name": "python",
      "nbconvert_exporter": "python",
      "pygments_lexer": "ipython3",
      "version": "3.7.12"
    },
    "colab": {
      "provenance": [],
      "gpuType": "T4"
    },
    "accelerator": "GPU"
  },
  "nbformat": 4,
  "nbformat_minor": 5
}